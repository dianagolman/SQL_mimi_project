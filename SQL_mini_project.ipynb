{
 "cells": [
  {
   "cell_type": "code",
   "execution_count": 37,
   "id": "18b2bc59",
   "metadata": {},
   "outputs": [],
   "source": [
    "import pandas as pd"
   ]
  },
  {
   "cell_type": "code",
   "execution_count": 24,
   "id": "155c473c",
   "metadata": {},
   "outputs": [
    {
     "name": "stdout",
     "output_type": "stream",
     "text": [
      "2.6.0\n",
      "2. Query all tasks\n",
      "(0, 'Tennis Court 1', 5, 25, 10000, 200)\n",
      "(1, 'Tennis Court 2', 5, 25, 8000, 200)\n",
      "(2, 'Badminton Court', 0, 15.5, 4000, 50)\n",
      "(3, 'Table Tennis', 0, 5, 320, 10)\n",
      "(4, 'Massage Room 1', 9.9, 80, 4000, 3000)\n",
      "(5, 'Massage Room 2', 9.9, 80, 4000, 3000)\n",
      "(6, 'Squash Court', 3.5, 17.5, 5000, 80)\n",
      "(7, 'Snooker Table', 0, 5, 450, 15)\n",
      "(8, 'Pool Table', 0, 5, 400, 15)\n"
     ]
    }
   ],
   "source": [
    "import sqlite3\n",
    "from sqlite3 import Error\n",
    "\n",
    " \n",
    "def create_connection(db_file):\n",
    "    \"\"\" create a database connection to the SQLite database\n",
    "        specified by the db_file\n",
    "    :param db_file: database file\n",
    "    :return: Connection object or None\n",
    "    \"\"\"\n",
    "    conn = None\n",
    "    try:\n",
    "        conn = sqlite3.connect(db_file)\n",
    "        print(sqlite3.version)\n",
    "    except Error as e:\n",
    "        print(e)\n",
    " \n",
    "    return conn\n",
    "\n",
    " \n",
    "def select_all_tasks(conn):\n",
    "    \"\"\"\n",
    "    Query all rows in the tasks table\n",
    "    :param conn: the Connection object\n",
    "    :return:\n",
    "    \"\"\"\n",
    "    cur = conn.cursor()\n",
    "    \n",
    "    query1 = \"\"\"\n",
    "        SELECT *\n",
    "        FROM FACILITIES\n",
    "        \"\"\"\n",
    "    cur.execute(query1)\n",
    " \n",
    "    rows = cur.fetchall()\n",
    " \n",
    "    for row in rows:\n",
    "        print(row)\n",
    "\n",
    "\n",
    "def main():\n",
    "    database = \"C:\\\\Users\\\\Diana\\\\sqlite_db_pythonsqlite.db\"\n",
    " \n",
    "    # create a database connection\n",
    "    conn = create_connection(database)\n",
    "    with conn: \n",
    "        print(\"2. Query all tasks\")\n",
    "        select_all_tasks(conn)\n",
    " \n",
    " \n",
    "if __name__ == '__main__':\n",
    "    main()\n"
   ]
  },
  {
   "cell_type": "code",
   "execution_count": 39,
   "id": "409f36de",
   "metadata": {},
   "outputs": [
    {
     "name": "stdout",
     "output_type": "stream",
     "text": [
      "2.6.0\n"
     ]
    }
   ],
   "source": [
    "database = \"C:\\\\Users\\\\Diana\\\\sqlite_db_pythonsqlite.db\"\n",
    " \n",
    "# create a database connection\n",
    "conn = create_connection(database)"
   ]
  },
  {
   "cell_type": "code",
   "execution_count": 41,
   "id": "c389c484",
   "metadata": {},
   "outputs": [
    {
     "name": "stdout",
     "output_type": "stream",
     "text": [
      "              name\n",
      "0   Tennis Court 1\n",
      "1   Tennis Court 2\n",
      "2  Badminton Court\n",
      "3     Table Tennis\n",
      "4   Massage Room 1\n",
      "5   Massage Room 2\n",
      "6     Squash Court\n",
      "7    Snooker Table\n",
      "8       Pool Table\n"
     ]
    }
   ],
   "source": [
    "q1= \"\"\"SELECT name FROM Facilities\"\"\"\n",
    "df = pd.read_sql_query(q1,conn)\n",
    "print(df)"
   ]
  },
  {
   "cell_type": "code",
   "execution_count": 105,
   "id": "56ba40ff",
   "metadata": {},
   "outputs": [
    {
     "name": "stdout",
     "output_type": "stream",
     "text": [
      "            name  rev\n",
      "0     Pool Table  270\n",
      "1  Snooker Table  240\n",
      "2   Table Tennis  180\n"
     ]
    }
   ],
   "source": [
    "q2=\"\"\"SELECT name, rev \n",
    "    FROM (SELECT f.name, SUM(CASE WHEN b.memid >0 THEN (b.slots * f.membercost)\n",
    "                                  WHEN b.memid=0 THEN (b.slots * f.guestcost) END)AS rev\n",
    "            FROM Bookings AS b\n",
    "            LEFT JOIN Members AS m\n",
    "            USING(memid)\n",
    "            LEFT JOIN Facilities as f\n",
    "            USING(facid)\n",
    "            GROUP BY f.name)AS 'R' \n",
    "    WHERE rev<1000\n",
    "    ORDER BY rev DESC\n",
    "    \"\"\"\n",
    "Q10 = pd.read_sql_query(q2,conn)\n",
    "print(Q10)"
   ]
  },
  {
   "cell_type": "code",
   "execution_count": 122,
   "id": "f85c3854",
   "metadata": {},
   "outputs": [
    {
     "name": "stdout",
     "output_type": "stream",
     "text": [
      "              surname  firstname recomendedby_surname recomendedby_surname\n",
      "0               Bader   Florence             Stibbons               Ponder\n",
      "1               Baker       Anne             Stibbons               Ponder\n",
      "2               Baker    Timothy              Farrell               Jemima\n",
      "3              Boothe        Tim               Rownam                  Tim\n",
      "4             Butters     Gerald                Smith               Darren\n",
      "5              Coplin       Joan                Baker              Timothy\n",
      "6             Crumpet      Erica                Smith                Tracy\n",
      "7                Dare      Nancy             Joplette               Janice\n",
      "8             Genting    Matthew              Butters               Gerald\n",
      "9                Hunt       John              Purview            Millicent\n",
      "10              Jones      David             Joplette               Janice\n",
      "11              Jones    Douglas                Jones                David\n",
      "12           Joplette     Janice                Smith               Darren\n",
      "13          Mackenzie       Anna                Smith               Darren\n",
      "14               Owen    Charles                Smith               Darren\n",
      "15             Pinker      David              Farrell               Jemima\n",
      "16            Purview  Millicent                Smith                Tracy\n",
      "17             Rumney  Henrietta              Genting              Matthew\n",
      "18             Sarwin  Ramnaresh                Bader             Florence\n",
      "19              Smith       Jack                Smith               Darren\n",
      "20           Stibbons     Ponder                Tracy               Burton\n",
      "21  Worthington-Smyth      Henry                Smith                Tracy\n"
     ]
    }
   ],
   "source": [
    "q3=\"\"\" SELECT  b.surname , b.firstname ,  a.surname AS recomendedby_surname , a.firstname AS recomendedby_surname\n",
    "FROM Members AS a\n",
    "INNER JOIN Members AS b\n",
    "ON a.memid=b.recommendedby\n",
    "ORDER BY b.surname\n",
    "\"\"\"\n",
    "\n",
    "Q11 = pd.read_sql_query(q3,conn)\n",
    "print(Q11)"
   ]
  },
  {
   "cell_type": "code",
   "execution_count": 140,
   "id": "2a569a5e",
   "metadata": {},
   "outputs": [
    {
     "name": "stdout",
     "output_type": "stream",
     "text": [
      "    memid            surname  firstname             name  SUM(b.slots)\n",
      "0       1              Smith     Darren     Table Tennis           685\n",
      "1       2              Smith      Tracy   Tennis Court 1           435\n",
      "2       3             Rownam        Tim   Massage Room 1           660\n",
      "3       4           Joplette     Janice   Massage Room 1           326\n",
      "4       5            Butters     Gerald   Tennis Court 1           409\n",
      "5       6              Tracy     Burton   Tennis Court 2           366\n",
      "6       7               Dare      Nancy  Badminton Court           267\n",
      "7       8             Boothe        Tim   Tennis Court 2           440\n",
      "8       9           Stibbons     Ponder   Tennis Court 2           249\n",
      "9      10               Owen    Charles   Tennis Court 1           345\n",
      "10     11              Jones      David   Tennis Court 2           305\n",
      "11     12              Baker       Anne   Tennis Court 1           296\n",
      "12     13            Farrell     Jemima     Table Tennis           180\n",
      "13     14              Smith       Jack   Massage Room 1           219\n",
      "14     15              Bader   Florence  Badminton Court           237\n",
      "15     16              Baker    Timothy   Tennis Court 2           290\n",
      "16     17             Pinker      David    Snooker Table           159\n",
      "17     20            Genting    Matthew   Massage Room 2           131\n",
      "18     21          Mackenzie       Anna  Badminton Court           231\n",
      "19     22             Coplin       Joan    Snooker Table           106\n",
      "20     24             Sarwin  Ramnaresh   Tennis Court 2           153\n",
      "21     26              Jones    Douglas  Badminton Court            37\n",
      "22     27             Rumney  Henrietta    Snooker Table            38\n",
      "23     28            Farrell      David   Tennis Court 1            50\n",
      "24     29  Worthington-Smyth      Henry  Badminton Court            60\n",
      "25     30            Purview  Millicent  Badminton Court            32\n",
      "26     33         Tupperware   Hyacinth    Snooker Table            28\n",
      "27     35               Hunt       John   Tennis Court 1            40\n",
      "28     36            Crumpet      Erica  Badminton Court            17\n"
     ]
    }
   ],
   "source": [
    "q4=\"\"\" SELECT m.memid, m.surname, m.firstname , f.name, SUM(b.slots)\n",
    "FROM Bookings AS b\n",
    "LEFT JOIN Facilities AS f\n",
    "USING(facid)\n",
    "LEFT JOIN members AS m\n",
    "USING(memid)\n",
    "WHERE memid>0\n",
    "GROUP BY m.memid\n",
    "\"\"\"\n",
    "\n",
    "Q12 = pd.read_sql_query(q4,conn)\n",
    "print(Q12)"
   ]
  },
  {
   "cell_type": "code",
   "execution_count": 186,
   "id": "d10f43c8",
   "metadata": {},
   "outputs": [
    {
     "name": "stdout",
     "output_type": "stream",
     "text": [
      "             name month  SUM(b.slots)\n",
      "0    Table Tennis    07          1061\n",
      "1  Tennis Court 1    08          2531\n",
      "2  Tennis Court 1    09          3199\n"
     ]
    }
   ],
   "source": [
    "q5=\"\"\" SELECT f.name, substring(STARTTIME, 6, 2) AS month , SUM(b.slots)\n",
    "FROM Bookings AS b\n",
    "LEFT JOIN Facilities AS f\n",
    "USING(facid)\n",
    "LEFT JOIN members AS m\n",
    "USING(memid)\n",
    "WHERE memid>0\n",
    "GROUP BY month\n",
    "\"\"\"\n",
    "\n",
    "Q13 = pd.read_sql_query(q5,conn)\n",
    "print(Q13)"
   ]
  },
  {
   "cell_type": "code",
   "execution_count": null,
   "id": "969009af",
   "metadata": {},
   "outputs": [],
   "source": []
  },
  {
   "cell_type": "raw",
   "id": "239501b8",
   "metadata": {},
   "source": []
  }
 ],
 "metadata": {
  "kernelspec": {
   "display_name": "Python 3",
   "language": "python",
   "name": "python3"
  },
  "language_info": {
   "codemirror_mode": {
    "name": "ipython",
    "version": 3
   },
   "file_extension": ".py",
   "mimetype": "text/x-python",
   "name": "python",
   "nbconvert_exporter": "python",
   "pygments_lexer": "ipython3",
   "version": "3.8.8"
  }
 },
 "nbformat": 4,
 "nbformat_minor": 5
}
